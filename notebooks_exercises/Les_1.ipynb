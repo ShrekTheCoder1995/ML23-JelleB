{
 "cells": [
  {
   "cell_type": "markdown",
   "metadata": {},
   "source": [
    "# Opdrachten les 1"
   ]
  },
  {
   "cell_type": "markdown",
   "metadata": {},
   "source": [
    "## Bibliotheken importeren"
   ]
  },
  {
   "cell_type": "code",
   "execution_count": 13,
   "metadata": {},
   "outputs": [],
   "source": [
    "import numpy as np\n",
    "import mads_datasets\n",
    "import torch\n",
    "from pathlib import Path\n",
    "from torch.utils.data import Dataset\n",
    "from glob import glob\n",
    "from PIL import Image"
   ]
  },
  {
   "cell_type": "markdown",
   "metadata": {},
   "source": [
    "## Setup your own repo\n",
    "- use the `cookiecutter` command that is preinstalled on your VM to create a repo, see https://github.com/raoulg/datascience-cookiecutter for details,\n",
    "- push your own repo to github. Use `ML23-{yourname}` as a format, eg `ML23-joostb`.\n",
    "- Invite me (raoulg) as a collaborator to your repo.\n",
    "- make the excercises 1-5 below in your repo, and push them to github.\n",
    "\n",
    "Tips:\n",
    "- Run `make format` and `make lint` before you commit to improve your code\n",
    "- Commit often (every 30 minutes or so)\n",
    "- Commit groups of files that are related to each other. If you have more files, commit them separately.\n",
    "- Write commit messages that are descriptive and informative. \"lesson 1\" is a bad commit message. \"added excercise 2\" is better, \"[ex2] added __len__ to Dataset class\" is even better.\n",
    "- Use `pdm` to add dependencies. `mads_datasets` and `mltrainer` should be enough, because mltrainer also\n",
    "\n",
    "You will get a grade for the excercises that is 0 (not good enough), 1 (good enough) or 2 (excellent).\n",
    "I will look for both form and correctness to determine your grade.\n",
    "The result be incorporated into your final grade for this course."
   ]
  },
  {
   "cell_type": "markdown",
   "metadata": {},
   "source": [
    "## 1. Computational graph\n",
    "\n",
    "Read p29 of your book. Can you write down the formula of the computational graph?\n",
    "In other words: what mathematical function is this computational graph computing?"
   ]
  },
  {
   "cell_type": "markdown",
   "metadata": {},
   "source": [
    "## 2. 3D Tensor dataset\n",
    "Create a random 3D tensor dataset with `torch` and build your own `DataSet` class.\n",
    "See p35-36 of the book and notebook 03_dataloader."
   ]
  },
  {
   "cell_type": "code",
   "execution_count": 36,
   "metadata": {},
   "outputs": [],
   "source": [
    "class JamesBondDataset(Dataset):\n",
    "\n",
    "    def __init__ (self, root_dir, size):\n",
    "        self.files = glob(root_dir)\n",
    "        self.size = size\n",
    "    \n",
    "    def __len__(self):\n",
    "        return len(self.files)\n",
    "    \n",
    "    def __getitem__(self, idx):\n",
    "        # return Image.open(self.files[idx])\n",
    "\n",
    "        img_original = Image.open(self.files[idx])\n",
    "        img_resized = img_original.resize(self.size)\n",
    "        img_numpy = np.asarray(img_resized)\n",
    "\n",
    "        label = self.files[idx].split('/')[-1]\n",
    "        return img_numpy, label"
   ]
  },
  {
   "cell_type": "code",
   "execution_count": 39,
   "metadata": {},
   "outputs": [
    {
     "data": {
      "text/plain": [
       "(array([[[ 34,  40,  56],\n",
       "         [ 35,  41,  57],\n",
       "         [ 34,  40,  56],\n",
       "         ...,\n",
       "         [ 63,  73, 102],\n",
       "         [ 61,  72, 100],\n",
       "         [ 61,  72, 100]],\n",
       " \n",
       "        [[ 34,  40,  56],\n",
       "         [ 30,  36,  52],\n",
       "         [ 31,  37,  53],\n",
       "         ...,\n",
       "         [ 64,  74, 104],\n",
       "         [ 65,  74, 103],\n",
       "         [ 65,  74, 103]],\n",
       " \n",
       "        [[ 31,  37,  53],\n",
       "         [ 34,  40,  56],\n",
       "         [ 30,  36,  52],\n",
       "         ...,\n",
       "         [ 67,  77, 107],\n",
       "         [ 68,  77, 106],\n",
       "         [ 66,  75, 104]],\n",
       " \n",
       "        ...,\n",
       " \n",
       "        [[115,  95,  97],\n",
       "         [115,  93,  94],\n",
       "         [121,  96,  96],\n",
       "         ...,\n",
       "         [ 96, 103, 123],\n",
       "         [ 95, 101, 123],\n",
       "         [ 97, 102, 124]],\n",
       " \n",
       "        [[116,  94,  97],\n",
       "         [116,  92,  95],\n",
       "         [120,  93,  95],\n",
       "         ...,\n",
       "         [ 89,  97, 118],\n",
       "         [ 87,  94, 116],\n",
       "         [ 86,  93, 114]],\n",
       " \n",
       "        [[112,  87,  94],\n",
       "         [114,  89,  93],\n",
       "         [127,  98, 101],\n",
       "         ...,\n",
       "         [ 86,  97, 119],\n",
       "         [ 82,  93, 113],\n",
       "         [ 83,  94, 114]]], dtype=uint8),\n",
       " 'img\\\\JB1.jpg')"
      ]
     },
     "execution_count": 39,
     "metadata": {},
     "output_type": "execute_result"
    }
   ],
   "source": [
    "root_dir = \"../data/img/*.jpg\"\n",
    "jbdata = JamesBondDataset(root_dir, (224, 224))\n",
    "jbdata.__getitem__(0)"
   ]
  },
  {
   "cell_type": "markdown",
   "metadata": {},
   "source": [
    "## 3. Datastreamers\n",
    "Study the `BaseDatastreamer` in `03_dataloader` and use it with your own dataset."
   ]
  },
  {
   "cell_type": "markdown",
   "metadata": {},
   "source": [
    "## 4. Cross entropy\n",
    "Recreate the function at p50 (cross_entropy) and visualize it for multiple combinations of label and prediction."
   ]
  },
  {
   "cell_type": "markdown",
   "metadata": {},
   "source": [
    "# 5. Tune the network\n",
    "Run the experiment below, and study the result with tensorboard. "
   ]
  }
 ],
 "metadata": {
  "kernelspec": {
   "display_name": "ml-project-github-femDU96O-py3.11",
   "language": "python",
   "name": "python3"
  },
  "language_info": {
   "codemirror_mode": {
    "name": "ipython",
    "version": 3
   },
   "file_extension": ".py",
   "mimetype": "text/x-python",
   "name": "python",
   "nbconvert_exporter": "python",
   "pygments_lexer": "ipython3",
   "version": "3.11.4"
  }
 },
 "nbformat": 4,
 "nbformat_minor": 2
}
